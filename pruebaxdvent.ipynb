{
 "cells": [
  {
   "cell_type": "code",
   "execution_count": 82,
   "metadata": {},
   "outputs": [
    {
     "data": {
      "text/plain": [
       "<AxesSubplot:xlabel='dias', ylabel='camas ocupadas'>"
      ]
     },
     "execution_count": 82,
     "metadata": {},
     "output_type": "execute_result"
    },
    {
     "data": {
      "image/png": "[encoded data removed]",
      "text/plain": [
       "<Figure size 432x288 with 1 Axes>"
      ]
     },
     "metadata": {
      "needs_background": "light"
     },
     "output_type": "display_data"
    }
   ],
   "source": [
    "import pandas as pd\n",
    "fullpath=r'E:\\Programas GitHub\\ventiladores_ocupados.csv'\n",
    "data=pd.read_csv(fullpath, header=None)\n",
    "data.columns = ['fechas','total de camas','camas libres','camas ocupadas']\n",
    "dias=[]\n",
    "for i in range(len(data[\"fechas\"])):\n",
    "    dias.append(i+1)\n",
    "dias2=pd.DataFrame(dias, columns=['dias'])\n",
    "data=pd.concat([data,dias2], axis=1)\n",
    "data.plot(kind='scatter', x=\"dias\", y='camas ocupadas')"
   ]
  },
  {
   "cell_type": "code",
   "execution_count": 81,
   "metadata": {},
   "outputs": [
    {
     "data": {
      "text/html": [
       "<div>\n",
       "<style scoped>\n",
       "    .dataframe tbody tr th:only-of-type {\n",
       "        vertical-align: middle;\n",
       "    }\n",
       "\n",
       "    .dataframe tbody tr th {\n",
       "        vertical-align: top;\n",
       "    }\n",
       "\n",
       "    .dataframe thead th {\n",
       "        text-align: right;\n",
       "    }\n",
       "</style>\n",
       "<table border=\"1\" class=\"dataframe\">\n",
       "  <thead>\n",
       "    <tr style=\"text-align: right;\">\n",
       "      <th></th>\n",
       "      <th>fechas</th>\n",
       "      <th>total de camas</th>\n",
       "      <th>camas libres</th>\n",
       "      <th>camas ocupadas</th>\n",
       "      <th>dias</th>\n",
       "    </tr>\n",
       "  </thead>\n",
       "  <tbody>\n",
       "    <tr>\n",
       "      <th>0</th>\n",
       "      <td>2020-04-14</td>\n",
       "      <td>1550</td>\n",
       "      <td>564</td>\n",
       "      <td>986</td>\n",
       "      <td>1</td>\n",
       "    </tr>\n",
       "    <tr>\n",
       "      <th>1</th>\n",
       "      <td>2020-04-15</td>\n",
       "      <td>1563</td>\n",
       "      <td>577</td>\n",
       "      <td>986</td>\n",
       "      <td>2</td>\n",
       "    </tr>\n",
       "    <tr>\n",
       "      <th>2</th>\n",
       "      <td>2020-04-16</td>\n",
       "      <td>1582</td>\n",
       "      <td>569</td>\n",
       "      <td>1013</td>\n",
       "      <td>3</td>\n",
       "    </tr>\n",
       "    <tr>\n",
       "      <th>3</th>\n",
       "      <td>2020-04-17</td>\n",
       "      <td>1604</td>\n",
       "      <td>579</td>\n",
       "      <td>1025</td>\n",
       "      <td>4</td>\n",
       "    </tr>\n",
       "    <tr>\n",
       "      <th>4</th>\n",
       "      <td>2020-04-18</td>\n",
       "      <td>1627</td>\n",
       "      <td>588</td>\n",
       "      <td>1039</td>\n",
       "      <td>5</td>\n",
       "    </tr>\n",
       "    <tr>\n",
       "      <th>...</th>\n",
       "      <td>...</td>\n",
       "      <td>...</td>\n",
       "      <td>...</td>\n",
       "      <td>...</td>\n",
       "      <td>...</td>\n",
       "    </tr>\n",
       "    <tr>\n",
       "      <th>527</th>\n",
       "      <td>2021-09-23</td>\n",
       "      <td>2459</td>\n",
       "      <td>400</td>\n",
       "      <td>2059</td>\n",
       "      <td>528</td>\n",
       "    </tr>\n",
       "    <tr>\n",
       "      <th>528</th>\n",
       "      <td>2021-09-24</td>\n",
       "      <td>2423</td>\n",
       "      <td>360</td>\n",
       "      <td>2063</td>\n",
       "      <td>529</td>\n",
       "    </tr>\n",
       "    <tr>\n",
       "      <th>529</th>\n",
       "      <td>2021-09-25</td>\n",
       "      <td>2417</td>\n",
       "      <td>366</td>\n",
       "      <td>2051</td>\n",
       "      <td>530</td>\n",
       "    </tr>\n",
       "    <tr>\n",
       "      <th>530</th>\n",
       "      <td>2021-09-26</td>\n",
       "      <td>2397</td>\n",
       "      <td>367</td>\n",
       "      <td>2030</td>\n",
       "      <td>531</td>\n",
       "    </tr>\n",
       "    <tr>\n",
       "      <th>531</th>\n",
       "      <td>2021-09-27</td>\n",
       "      <td>2396</td>\n",
       "      <td>403</td>\n",
       "      <td>1993</td>\n",
       "      <td>532</td>\n",
       "    </tr>\n",
       "  </tbody>\n",
       "</table>\n",
       "<p>532 rows × 5 columns</p>\n",
       "</div>"
      ],
      "text/plain": [
       "         fechas  total de camas  camas libres  camas ocupadas  dias\n",
       "0    2020-04-14            1550           564             986     1\n",
       "1    2020-04-15            1563           577             986     2\n",
       "2    2020-04-16            1582           569            1013     3\n",
       "3    2020-04-17            1604           579            1025     4\n",
       "4    2020-04-18            1627           588            1039     5\n",
       "..          ...             ...           ...             ...   ...\n",
       "527  2021-09-23            2459           400            2059   528\n",
       "528  2021-09-24            2423           360            2063   529\n",
       "529  2021-09-25            2417           366            2051   530\n",
       "530  2021-09-26            2397           367            2030   531\n",
       "531  2021-09-27            2396           403            1993   532\n",
       "\n",
       "[532 rows x 5 columns]"
      ]
     },
     "execution_count": 81,
     "metadata": {},
     "output_type": "execute_result"
    }
   ],
   "source": [
    "data"
   ]
  },
  {
   "cell_type": "code",
   "execution_count": null,
   "metadata": {},
   "outputs": [],
   "source": []
  }
 ],
 "metadata": {
  "interpreter": {
   "hash": "20a9c44ac2cdc14ce148f82a3e67dffa299cea2831d5c2ba58297c23ffeb3363"
  },
  "kernelspec": {
   "display_name": "Python 3.8.2 32-bit",
   "language": "python",
   "name": "python3"
  },
  "language_info": {
   "codemirror_mode": {
    "name": "ipython",
    "version": 3
   },
   "file_extension": ".py",
   "mimetype": "text/x-python",
   "name": "python",
   "nbconvert_exporter": "python",
   "pygments_lexer": "ipython3",
   "version": "3.8.2"
  },
  "orig_nbformat": 4
 },
 "nbformat": 4,
 "nbformat_minor": 2
}
